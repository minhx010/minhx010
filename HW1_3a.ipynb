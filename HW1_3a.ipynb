{
  "nbformat": 4,
  "nbformat_minor": 0,
  "metadata": {
    "colab": {
      "name": "HW1_3a.ipynb",
      "provenance": [],
      "collapsed_sections": [],
      "mount_file_id": "1khGOurQm9AwbQXXq6e2556xhI9GczIRL",
      "authorship_tag": "ABX9TyPXTKvrw7WwsenSD9XpAb5n",
      "include_colab_link": true
    },
    "kernelspec": {
      "name": "python3",
      "display_name": "Python 3"
    },
    "language_info": {
      "name": "python"
    }
  },
  "cells": [
    {
      "cell_type": "markdown",
      "metadata": {
        "id": "view-in-github",
        "colab_type": "text"
      },
      "source": [
        "<a href=\"https://colab.research.google.com/github/minhx010/minhx010/blob/main/HW1_3a.ipynb\" target=\"_parent\"><img src=\"https://colab.research.google.com/assets/colab-badge.svg\" alt=\"Open In Colab\"/></a>"
      ]
    },
    {
      "cell_type": "code",
      "execution_count": 7,
      "metadata": {
        "id": "Qf_7czCZJycH"
      },
      "outputs": [],
      "source": [
        "import sklearn\n",
        "import pandas as pd \n",
        "import numpy as np\n",
        "import matplotlib.pyplot as plt\n",
        "from random import seed\n",
        "from random import randrange\n",
        " "
      ]
    },
    {
      "cell_type": "code",
      "source": [
        "from google.colab import drive\n",
        "drive.mount('/content/drive')"
      ],
      "metadata": {
        "colab": {
          "base_uri": "https://localhost:8080/"
        },
        "id": "4qVnQ3fXKINl",
        "outputId": "6d76a82f-aa11-4f69-ed52-c3acbc1a78cd"
      },
      "execution_count": 8,
      "outputs": [
        {
          "output_type": "stream",
          "name": "stdout",
          "text": [
            "Drive already mounted at /content/drive; to attempt to forcibly remount, call drive.mount(\"/content/drive\", force_remount=True).\n"
          ]
        }
      ]
    },
    {
      "cell_type": "code",
      "source": [
        "# Load Dataset\n",
        "boston50data = pd.read_excel('/content/drive/MyDrive/ML_HW/boston50.xlsx')\n",
        "independentVariable = pd.read_excel('/content/drive/MyDrive/ML_HW/boston50.xlsx',usecols=\"A:M\") # create dataframe for the features\n",
        "\n",
        "# Split a dataset into k folds\n",
        "def cross_validation_split(dataset, folds=3):\n",
        "\tdataset_split = list()\n",
        "\tdataset_copy = list(dataset)\n",
        "\tfold_size = int(len(dataset) / folds)\n",
        "\tfor i in range(folds):\n",
        "\t\tfold = list()\n",
        "\t\twhile len(fold) < fold_size:\n",
        "\t\t\tindex = randrange(len(dataset_copy))\n",
        "\t\t\tfold.append(dataset_copy.pop(index))\n",
        "\t\tdataset_split.append(fold)\n",
        "\treturn dataset_split\n"
      ],
      "metadata": {
        "id": "QsseKf7EzcPb"
      },
      "execution_count": 9,
      "outputs": []
    },
    {
      "cell_type": "code",
      "source": [
        "# # test cross validation split\n",
        "\n",
        "# seed(1)\n",
        "# folds = cross_validation_split(independentVariable.values, 10)\n",
        "# print(folds)"
      ],
      "metadata": {
        "id": "D6PEX7iT3GU5"
      },
      "execution_count": null,
      "outputs": []
    },
    {
      "cell_type": "code",
      "source": [
        "# Cross Validate (10-fold)\n",
        "\n"
      ],
      "metadata": {
        "id": "_LuoDLxm6QdC"
      },
      "execution_count": null,
      "outputs": []
    },
    {
      "cell_type": "code",
      "source": [
        "# Construct the Sb_matrix\n",
        "feature_means_for_each_label = boston50data.groupby(['label']).mean() # get the mean of each feature for each label\n",
        "feature_means_label0 = feature_means_for_each_label.drop([1]) # mean of each feature for label 0\n",
        "feature_means_label1 = feature_means_for_each_label.drop([0]) # mean of each feature for label 1\n",
        "\n",
        "Sb_matrix = (feature_means_label1.values.reshape(13,1)-feature_means_label0.values.reshape(13,1)).dot((feature_means_label1.values.reshape(13,1)-feature_means_label0.values.reshape(13,1)).T)\n",
        "# print(Sb_matrix.shape)\n",
        "\n",
        "# Construct the Sw_matrix\n",
        "first_half_of_Sw_matrix = 0\n",
        "second_half_of_Sw_matrix = 0\n",
        "for i in range(len(independentVariable)):\n",
        "  first_half_of_Sw_matrix += ((independentVariable.iloc[i]).values.reshape(13,1)-(feature_means_label0.T).values).dot(((independentVariable.iloc[i]).values.reshape(13,1)-(feature_means_label0.T).values).T)\n",
        "  second_half_of_Sw_matrix += ((independentVariable.iloc[i]).values.reshape(13,1)-(feature_means_label1.T).values).dot(((independentVariable.iloc[i]).values.reshape(13,1)-(feature_means_label1.T).values).T)\n",
        "  Sw_matrix = first_half_of_Sw_matrix + second_half_of_Sw_matrix\n",
        "\n",
        "\n",
        "# Calculate the eigenvalues and eigenvector for Sb and Sw (this will be used for calculating the w matrix/vector)\n",
        "eigen_values, eigen_vectors = np.linalg.eig(np.linalg.inv(Sw_matrix).dot(Sb_matrix))\n",
        "\n",
        "index = eigen_values.argsort()[::-1] # get the index of where the biggest eigenvalue is so that we could also find the biggest eigenvector - this will help us determine the direction of w\n",
        "eigen_values = eigen_values[index] # order the eigenvalues\n",
        "eigen_vectors = eigen_vectors[:, index]  # order the eigenvectors - matching with its eigenvalues, so then we can call on the eigenvector [0] to get our w\n",
        "eigen_vectors = eigen_vectors.real \n",
        "\n",
        "# Get W matrix/vector (this helps us decide how many dimension we want to project the data to)\n",
        "w = eigen_vectors[:,:1] # we're going to project our data 1D-wise onto this w - so that's why I only have one vector here\n",
        "\n",
        "\n",
        "# Perform the linear discriminant analysis (LDA) - get Y \n",
        "Y_estimate = ((independentVariable).values).dot(w)\n",
        "Y_estimate = Y_estimate.dot([1])\n",
        "Y_estimate_mean = Y_estimate.mean()\n",
        "\n",
        "for i in range(len(Y_estimate)): \n",
        "  if Y_estimate [i] < Y_estimate_mean: \n",
        "    Y_estimate [i] = 0\n",
        "  elif Y_estimate [i] >= Y_estimate_mean:\n",
        "    Y_estimate [i] = 1\n",
        "\n",
        "\n",
        "# Calculate error\n",
        "target = pd.read_excel('/content/drive/MyDrive/ML_HW/boston50.xlsx',usecols=\"N\")\n",
        "a = target.dot([1])\n",
        "\n",
        "Error = np.linalg.norm(a-Y_estimate)\n",
        "print(\"Error = \",Error)\n"
      ],
      "metadata": {
        "id": "w0MqQvlfLFVo",
        "colab": {
          "base_uri": "https://localhost:8080/"
        },
        "outputId": "6bfae89d-767f-47b6-ae4c-720735215567"
      },
      "execution_count": 14,
      "outputs": [
        {
          "output_type": "stream",
          "name": "stdout",
          "text": [
            "Error =  20.83266665599966\n"
          ]
        }
      ]
    }
  ]
}